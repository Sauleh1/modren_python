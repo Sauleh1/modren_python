{
 "cells": [
  {
   "cell_type": "markdown",
   "metadata": {},
   "source": [
    "# Class no. 13\n",
    "## Topics:\n",
    "\n",
    "* OOPS's:\n",
    "    * OOPS, or More commonly called in programming terms as `\"Object Oriented Programming\"`, Allows us to sort our data and organize it.\n",
    "    * OOP's come with 2 types of methods, namely `Magic` Methods and `Dunder` Methods:\n",
    "        * Magic Methods are methods with 2 \"_\" characters before and after them.\n",
    "        * Dunder Methods are methods which do not have 2 \"_\" characters before and after them.\n",
    "        * An example of a Magic method in use:\n",
    "            ```\n",
    "            class Student:\n",
    "                Name = \"Sauleh\"\n",
    "                Age = 12\n",
    "                Education = \"Sadequain Grammer School\"\n",
    "                def __init__(self, a: str, b: int, c: str) -> None:         <-- \"__init__\" is a magic method.\n",
    "                    self.Name = a\n",
    "                    self.Age = b\n",
    "                    self.Education = c\n",
    "            ```\n",
    "        * An example of a Dunder method in use:\n",
    "            ```\n",
    "            class Student:\n",
    "                Name = \"Sauleh\"\n",
    "                Age = 12\n",
    "                Education = \"Sadequian Grammer School\"\n",
    "                def ExtractDetails(self) -> None:           <-- \"ExtractDetails\" is a dunder Method.\n",
    "                    a = input(f\"Which details to extract from Students Details?\\n1. {self.Name}\\n2. {self.Age}\\n3. {self.Education}\")\n",
    "                    if a == \"1\":\n",
    "                        print(f\"Name of student is {self.Name}\")\n",
    "                    elif a == \"2\":\n",
    "                        print(f\"Age of student is {self.Age}\")\n",
    "                    elif a == \"3\":\n",
    "                        print(f\"Education of student is {self.Education}\")\n",
    "            ```\n",
    "\n",
    "# The Types of Object Oriented Programming:\n",
    "* OOP's come with 4 Types, namely:\n",
    "    * `Abstraction:`\n",
    "        * Abstraction in Python is achieved through abstract classes and interfaces. It's a core concept of Object-Oriented Programming   (OOP) that hides the complexity of a system, allowing users to implement methods without knowing the underlying logic. This      encapsulation of implementation details simplifies programming.\n",
    "        * An example of abstraction code is:\n",
    "            ```\n",
    "            class Car:\n",
    "                def __init__(self, make, model, year):\n",
    "                    self.make = make\n",
    "                    self.model = model\n",
    "                    self.year = year\n",
    "\n",
    "                 def drive(self):\n",
    "                        print(f\"The {self.make} {self.model} {self.year} is driving.\")\n",
    "\n",
    "                tesla = Car(\"Tesla\", \"Model 3\", 2023)\n",
    "\n",
    "                tesla.drive()\n",
    "                ```\n",
    "    * `Encapsulation:`\n",
    "        * Encapsulation is a fundamental concept in object-oriented programming (OOP) that describes the idea of wrapping data and themethods that work on data within one unit. This puts restrictions on accessing variables and methods directly and can prevent theaccidental modification of data. To prevent accidental change, an object’s variable can only be changed by an object’s method.Those types of variables are known as `private` variables.\n",
    "        * An example of Encapsulation code in python is:\n",
    "            ```\n",
    "            class Person:\n",
    "                def __init__(self, name, age):\n",
    "                    self.__name = name\n",
    "                    self.__age = age\n",
    "\n",
    "                def get_name(self):\n",
    "                    return self.__name\n",
    "\n",
    "                def get_age(self):\n",
    "                    return self.__age\n",
    "\n",
    "            person = Person(\"John Doe\", 30)\n",
    "\n",
    "            name = person.get_name()\n",
    "\n",
    "            age = person.get_age()\n",
    "\n",
    "            print(f\"The person's name is {name} and their age is {age}\")\n",
    "            ```\n",
    "    * `Inheritance:`\n",
    "        * There are five types of inheritance (OOP's) in python (Only 2 Are Important [Because of how much i've learnt]):\n",
    "            * Single Inheritance:\n",
    "                * Single inheritance in Python is a mechanism that allows a class to inherit all the properties and methods of another class. The class that inherits is called the child class, and the class that it inherits from is called the parent class.\n",
    "                * An example of Single Inheritance code in python is:\n",
    "                    ```\n",
    "                    class Animal:\n",
    "                        def eat(self):\n",
    "                            print(\"The animal is eating.\")\n",
    "\n",
    "                        def move(self):\n",
    "                            print(\"The animal is moving.\")\n",
    "\n",
    "                    class Dog(Animal):\n",
    "                        def bark(self):\n",
    "                            print(\"The dog is barking.\")\n",
    "\n",
    "                    dog = Dog()\n",
    "\n",
    "                    dog.eat()\n",
    "\n",
    "                    dog.move()\n",
    "\n",
    "                    dog.bark()\n",
    "                    ```\n",
    "                * Multiple Inheritance:\n",
    "                    * Multiple Inheritance is a mechanism of OOP's which allows one class to inherit properties from multiple other classes. In this type of inheritance, a class inherits all the properties from multiple other classes.\n",
    "                    * An example of Multi Inheritance is:\n",
    "                    ```\n",
    "                    class Animal:\n",
    "                        def speak(self):\n",
    "                            pass\n",
    "                    \n",
    "                    class Dog(Animal):\n",
    "                        def __init__(self):\n",
    "                            super().__init__()\n",
    "                        def speak(self):\n",
    "                            print(\"Woof!\")\n",
    "\n",
    "                    class Cat(Animal):\n",
    "                        def __init__(self):\n",
    "                            super().__init__()\n",
    "                        def speak(self):\n",
    "                            print(\"Meow!\")\n",
    "                    \n",
    "                    animal = Animal()\n",
    "\n",
    "                    for animals in animal:\n",
    "                        print(animals.speak())\n",
    "                    ```\n",
    "    * `Polymorphism:`\n",
    "        * Polymorphism in Python is a principle of object-oriented programming (OOP) that allows methods to behave differently based on the object that is calling them. It enables a single interface to represent different types in different scenarios.\n",
    "        * An example of Single Inheritance code in python is:\n",
    "            ```\n",
    "            class Circle:\n",
    "                def __init__(self, radius):\n",
    "                    self.radius = radius\n",
    "                \n",
    "                def Find_Diameter(self):\n",
    "                    diameter = self.radius * 2\n",
    "                \n",
    "            ```\n",
    "\n",
    "# The Property Method of OOPS\n",
    "* In Python's Object-Oriented Programming (OOP), the `property` method is a built-in function that creates and returns a property object. This method provides a way to customize access to an attribute in a class. It allows us to add functionality like computation or validation when getting or setting the attribute's value. It also enhances the encapsulation of our code by keeping the representation of an attribute hidden from its interface, thus adhering to the principle of data hiding.\n",
    "\n",
    "* An example of code using the `property` method in python OOP's is:\n",
    "```\n",
    "class Circle:\n",
    "    def __init__(self, radius):\n",
    "        self._radius = radius\n",
    "\n",
    "    @property\n",
    "    def radius(self):\n",
    "        return self._radius\n",
    "\n",
    "    @radius.setter\n",
    "    def radius(self, value):\n",
    "        if value >= 0:\n",
    "            self._radius = value\n",
    "        else:\n",
    "            raise ValueError(\"Radius cannot be negative.\")\n",
    "```\n",
    "\n",
    "# The Variables in a class\n",
    "* In Python, variables are defined either in a class, or in a function, or even in procedural code:\n",
    "    * In Python, a class can have two types of variables: instance variables and class variables. Instance variables are unique to each instance of a class. This means that for each object or instance of a class, the instance variables are different. They are defined inside a method and belong only to the current instance of the class. You can access them using the self keyword.\n",
    "    * On the other hand, class variables are shared by all instances of a class. They are not defined inside any methods and because they are shared, they can be accessed by all instances of the class. If you change the value of a class variable, it will be reflected in all instances that access it. Class variables are often used when a specific piece of information needs to be shared across all instances of the class.\n",
    "\n",
    "    * All class variables are always shared by all instances of the class. They also always have different names which makes them differ from each other. For example:\n",
    "        ```\n",
    "        class MyClass:\n",
    "            var1: str = \"Hello World\"\n",
    "            var2: int = 100\n",
    "        ```\n",
    "\n",
    "\n",
    "# The Basic syntax of a Class\n",
    "* The basic Syntax of a class Is:\n",
    "```\n",
    "class [ Class_Name ]:\n",
    "    Details     <-- Details of the class\n",
    "    Constructor     <-- To make instances of a class\n",
    "    Methods     <-- Functions\n",
    "```"
   ]
  },
  {
   "cell_type": "code",
   "execution_count": 7,
   "metadata": {},
   "outputs": [
    {
     "name": "stdout",
     "output_type": "stream",
     "text": [
      "The teachers name is 'Sauleh and his roll no is 1000!\n",
      "None\n"
     ]
    }
   ],
   "source": [
    "class Teacher:\n",
    "    def __init__(self, rollno: int, name: str, age: int) -> None:       # __init__ is a magic method. It is also called a constructor\n",
    "        self.rollno = rollno\n",
    "        self.name = name\n",
    "        self.age = age\n",
    "    def speaking(self, words: str) -> None:\n",
    "        print(f\"Teacher is speaking '{words}'!\")\n",
    "    def teaching(self, subject: str) -> None:\n",
    "        print(f\"Teacher is teaching '{subject}'!\")\n",
    "    def details(self) -> None:\n",
    "        print(f\"The teachers name is {self.name} and his roll no is {self.rollno}!\")\n",
    "        \n",
    "Teacher1 = Teacher(1000, \"Sauleh\", 12)\n",
    "print(Teacher1.details())"
   ]
  },
  {
   "cell_type": "code",
   "execution_count": 11,
   "metadata": {},
   "outputs": [
    {
     "name": "stdout",
     "output_type": "stream",
     "text": [
      "['Python']\n"
     ]
    }
   ],
   "source": [
    "class Employee:\n",
    "    def __init__(self, name) -> None:\n",
    "        self.name: str = name\n",
    "        self.education: str = \"\"\n",
    "        self.department: str = \"\" \n",
    "        \n",
    "\n",
    "class Designer(Employee):\n",
    "    def __init__(self, title, name: str) -> None:\n",
    "        super().__init__(name)\n",
    "        self.title: str = title\n",
    "        self.programming_skills: list = [\"Python\"]\n",
    "        \n",
    "designer1 = Designer(\"Animation Artist\", \"Sauleh\")\n",
    "\n",
    "print(designer1.programming_skills)"
   ]
  },
  {
   "cell_type": "code",
   "execution_count": 13,
   "metadata": {},
   "outputs": [
    {
     "name": "stdout",
     "output_type": "stream",
     "text": [
      "\n"
     ]
    }
   ],
   "source": [
    "class Employee:\n",
    "    def __init__(self, name):\n",
    "        self.name = name\n",
    "        self.education: str = \"\"\n",
    "        self.salary: int = 0\n",
    "\n",
    "class Programmer(Employee):\n",
    "    def __init__(self, name, title, language):\n",
    "        super().__init__(name)\n",
    "        self.title = title\n",
    "        self.language = language\n",
    "        \n",
    "class Programmer2(Employee):\n",
    "    def __init__(self, name, title, language):\n",
    "        super().__init__(name)\n",
    "        self.title = title\n",
    "        self.language = language\n",
    "    \n",
    "p1 = Programmer(\"Qasim\", \"Software Engineer\", \"Python\")\n",
    "p2 = Programmer(\"Sauleh\", \"Generative AI Engineer\", \"JavaScript\")\n",
    "\n",
    "class Console:\n",
    "    def log(self, data):\n",
    "        print(data)\n",
    "\n",
    "console = Console()\n",
    "\n",
    "console.log(p1.education)\n"
   ]
  },
  {
   "cell_type": "code",
   "execution_count": 20,
   "metadata": {},
   "outputs": [
    {
     "name": "stdout",
     "output_type": "stream",
     "text": [
      "Mother Speaking Function\n"
     ]
    },
    {
     "data": {
      "text/plain": [
       "['__class__',\n",
       " '__delattr__',\n",
       " '__dict__',\n",
       " '__dir__',\n",
       " '__doc__',\n",
       " '__eq__',\n",
       " '__format__',\n",
       " '__ge__',\n",
       " '__getattribute__',\n",
       " '__getstate__',\n",
       " '__gt__',\n",
       " '__hash__',\n",
       " '__init__',\n",
       " '__init_subclass__',\n",
       " '__le__',\n",
       " '__lt__',\n",
       " '__module__',\n",
       " '__ne__',\n",
       " '__new__',\n",
       " '__reduce__',\n",
       " '__reduce_ex__',\n",
       " '__repr__',\n",
       " '__setattr__',\n",
       " '__sizeof__',\n",
       " '__str__',\n",
       " '__subclasshook__',\n",
       " '__weakref__',\n",
       " 'child_name',\n",
       " 'eye_color',\n",
       " 'height',\n",
       " 'name',\n",
       " 'speaking']"
      ]
     },
     "execution_count": 20,
     "metadata": {},
     "output_type": "execute_result"
    }
   ],
   "source": [
    "class Mother:\n",
    "    def speaking(self):\n",
    "        print(f\"Mother Speaking Function\")\n",
    "        \n",
    "    def __init__(self, name, eye_color: str or None) -> None:\n",
    "        self.name = name\n",
    "        self.eye_color = eye_color\n",
    "        \n",
    "class Father:\n",
    "    def __init__(self, name, height: int or None) -> None:\n",
    "        self.name = name\n",
    "        self.height = height\n",
    "        \n",
    "class Child(Mother, Father):\n",
    "    def __init__(self, mother_name: str, father_name: str, child_name: str) -> None:\n",
    "        Mother.__init__(self, mother_name, None)\n",
    "        Father.__init__(self, father_name, None)\n",
    "        self.child_name = child_name\n",
    "        \n",
    "Qasim = Child(\"Naseem Bano\",\"Muhammad Aslam\",\"Qasim\")        \n",
    "\n",
    "Qasim.speaking()\n",
    "\n",
    "dir(Qasim)\n"
   ]
  },
  {
   "cell_type": "markdown",
   "metadata": {},
   "source": [
    "# Class no. 15\n",
    "* More OOPS's\n",
    "* Overloading"
   ]
  },
  {
   "cell_type": "code",
   "execution_count": 21,
   "metadata": {},
   "outputs": [
    {
     "name": "stdout",
     "output_type": "stream",
     "text": [
      "12.0\n",
      "16.0\n",
      "25.666666666666668\n"
     ]
    }
   ],
   "source": [
    "class CummulativeAverager:\n",
    "    def __init__(self):\n",
    "        self.data = []\n",
    "    def __call__(self, new_value: int):\n",
    "        self.data.append(new_value)\n",
    "        return sum(self.data) / len(self.data)\n",
    "    \n",
    "stream_average = CummulativeAverager()\n",
    "\n",
    "print(stream_average(12))\n",
    "print(stream_average(20))\n",
    "print(stream_average(45))"
   ]
  },
  {
   "cell_type": "code",
   "execution_count": 24,
   "metadata": {},
   "outputs": [
    {
     "data": {
      "text/plain": [
       "120"
      ]
     },
     "execution_count": 24,
     "metadata": {},
     "output_type": "execute_result"
    }
   ],
   "source": [
    "class Factorial:\n",
    "    def __init__(self):\n",
    "        self.cache = {0: 1, 1: 1}\n",
    "        \n",
    "    def __call__(self, number: int):\n",
    "        if number not in self.cache:\n",
    "            self.cache[number] = self(number - 1) * number\n",
    "        return self.cache[number]\n",
    "    \n",
    "factorial = Factorial()\n",
    "\n",
    "# factorial(5)"
   ]
  },
  {
   "cell_type": "code",
   "execution_count": 6,
   "metadata": {},
   "outputs": [
    {
     "name": "stdout",
     "output_type": "stream",
     "text": [
      "12\n"
     ]
    }
   ],
   "source": [
    "from typing import Union, overload\n",
    "\n",
    "class Main:\n",
    "    @overload\n",
    "    @classmethod\n",
    "    def add(self, x: int, y: int):\n",
    "        ...\n",
    "    @overload\n",
    "    @classmethod\n",
    "    def add(self, x: float, y: float):\n",
    "        ...\n",
    "    @classmethod\n",
    "    def add(self, x: str, y: str):\n",
    "        ...\n",
    "    def add(self, x: Union[int, float, str], y: Union[int, float, str]) -> Union[int, float, str]:\n",
    "        if isinstance(x, int) and isinstance(y, int):\n",
    "            return x + y\n",
    "        if isinstance(x, float) and isinstance(y, float):\n",
    "            return x + y\n",
    "        if isinstance(x, str) and isinstance(y, str):\n",
    "            return x + y\n",
    "        else:\n",
    "            raise TypeError(\"Invalid argument to add.\")\n",
    "        \n",
    "Adder = Main()\n",
    "\n",
    "print(Adder.add(\"1\", \"2\"))\n",
    "\n"
   ]
  },
  {
   "cell_type": "code",
   "execution_count": null,
   "metadata": {},
   "outputs": [],
   "source": [
    "class Operations:\n",
    "    @staticmethod\n",
    "    def add(a: int, b: int):\n",
    "        return a + b\n",
    "    \n",
    "    @staticmethod\n",
    "    def multiply(a: int, b: int):\n",
    "        return a * b\n",
    "    \n",
    "operators = Operations()\n",
    "\n"
   ]
  },
  {
   "cell_type": "code",
   "execution_count": 5,
   "metadata": {},
   "outputs": [
    {
     "name": "stdout",
     "output_type": "stream",
     "text": [
      "<__main__.ExecutionTimer object at 0x0000020BD2313200>\n"
     ]
    }
   ],
   "source": [
    "import time\n",
    "from typing import Any\n",
    "\n",
    "class ExecutionTimer:\n",
    "    def __init__(self, func) -> None:\n",
    "        self.func = func\n",
    "        \n",
    "    def __call__(self, *args, **kwargs) -> Any:\n",
    "        starttimeer = time.perf_counter()\n",
    "        result = self.func(*args, **kwargs)\n",
    "        endtimeer = time.perf_counter()\n",
    "        print(f\"Execution time: {endtimeer - starttimeer:.4f} seconds\")\n",
    "        return result\n",
    "    \n"
   ]
  },
  {
   "cell_type": "code",
   "execution_count": 6,
   "metadata": {},
   "outputs": [],
   "source": [
    "class StudentLogin:\n",
    "    def __init__(self):\n",
    "        self.__username = \"Admin\"\n",
    "        self.__password = \"Admin\"\n",
    "    def __dbconnectivity(self, user: str, password: str):\n",
    "        print(\"Succesfully Connected!\")\n",
    "        if user == self.__username and password == self.password:\n",
    "            return \"Valid User\"\n",
    "        else:\n",
    "            return \"Invalid User\"\n",
    "    def __updatepassword(self, password: str):\n",
    "        self.__password = password\n",
    "    def student_login(self, user: str, password: str):\n",
    "        self.__dbconnectivity(user, password)\n",
    "    def display_information(self):\n",
    "        a = input(\"What to check? (password, name, )\")\n",
    "    \n"
   ]
  },
  {
   "cell_type": "code",
   "execution_count": 9,
   "metadata": {},
   "outputs": [
    {
     "name": "stdout",
     "output_type": "stream",
     "text": [
      "True\n"
     ]
    }
   ],
   "source": [
    "from abc import ABC, abstractmethod\n",
    "\n",
    "class Animal(ABC):\n",
    "    @abstractmethod\n",
    "    def __init__(self):\n",
    "        super().__init__()\n",
    "        self.living_thing: bool = True\n",
    "        \n",
    "    @abstractmethod\n",
    "    def eat(self, food: str):\n",
    "        pass\n",
    "    \n",
    "class Cat(Animal):\n",
    "    def __init__(self) -> None:\n",
    "        super().__init__()\n",
    "    \n",
    "    def eat(self, food: str):\n",
    "        return super().eat(food)\n",
    "        \n",
    "cat = Cat()\n",
    "\n",
    "print(cat.living_thing)\n"
   ]
  },
  {
   "cell_type": "code",
   "execution_count": null,
   "metadata": {},
   "outputs": [],
   "source": [
    "class Duck:\n",
    "    def quack(self):\n",
    "        print(\"Quack\")\n",
    "        \n",
    "class Person:\n",
    "    def quack(self):\n",
    "        print(\"Quack\")\n",
    "        \n",
    "def in_the_forest(malarad):\n",
    "    malarad.quack()\n",
    "    \n",
    "donald = Duck()\n",
    "john = Person()"
   ]
  }
 ],
 "metadata": {
  "kernelspec": {
   "display_name": "python11",
   "language": "python",
   "name": "python3"
  },
  "language_info": {
   "codemirror_mode": {
    "name": "ipython",
    "version": 3
   },
   "file_extension": ".py",
   "mimetype": "text/x-python",
   "name": "python",
   "nbconvert_exporter": "python",
   "pygments_lexer": "ipython3",
   "version": "3.12.0"
  }
 },
 "nbformat": 4,
 "nbformat_minor": 2
}
