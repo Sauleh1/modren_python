{
 "cells": [
  {
   "cell_type": "markdown",
   "metadata": {},
   "source": [
    "## Class 06\n",
    "* If, Elif, And else statements\n",
    "```\n",
    "    if logic:\n",
    "        class Console:\n",
    "            def log(self, data):\n",
    "                print(data)\n",
    "        console = Console()\n",
    "        console.log(\"Hello world\")\n",
    "    else:\n",
    "        print(\"Hello world\")\n",
    "```"
   ]
  },
  {
   "cell_type": "code",
   "execution_count": 33,
   "metadata": {},
   "outputs": [
    {
     "data": {
      "text/plain": [
       "[(0, 88, 'A+'),\n",
       " (1, 76.232, 'A'),\n",
       " (2, 23.12, 'Fail'),\n",
       " (3, 100, 'A+++'),\n",
       " (4, 65.23, 'B'),\n",
       " (5, 0, 'Worse Fail')]"
      ]
     },
     "metadata": {},
     "output_type": "display_data"
    },
    {
     "data": {
      "text/plain": [
       "[(3, 100, 'A+++'),\n",
       " (0, 88, 'A+'),\n",
       " (1, 76.232, 'A'),\n",
       " (4, 65.23, 'B'),\n",
       " (2, 23.12, 'Fail'),\n",
       " (5, 0, 'Worse Fail')]"
      ]
     },
     "execution_count": 33,
     "metadata": {},
     "output_type": "execute_result"
    }
   ],
   "source": [
    "data_base = [\n",
    "    (0, 88, \"A+\"),\n",
    "    (1, 76.232, \"A\"),\n",
    "    (2, 23.12, \"Fail\"),\n",
    "    (3, 100, \"A+++\"),\n",
    "    (4, 65.23, \"B\"),\n",
    "    (5, 0, \"Worse Fail\")\n",
    "]\n",
    "\n",
    "display(data_base)\n",
    "sorted(data_base, key = lambda x:x[1], reverse = True)\n"
   ]
  }
 ],
 "metadata": {
  "kernelspec": {
   "display_name": "python11",
   "language": "python",
   "name": "python3"
  },
  "language_info": {
   "codemirror_mode": {
    "name": "ipython",
    "version": 3
   },
   "file_extension": ".py",
   "mimetype": "text/x-python",
   "name": "python",
   "nbconvert_exporter": "python",
   "pygments_lexer": "ipython3",
   "version": "3.12.0"
  },
  "orig_nbformat": 4
 },
 "nbformat": 4,
 "nbformat_minor": 2
}
