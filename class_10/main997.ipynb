{
 "cells": [
  {
   "cell_type": "markdown",
   "metadata": {},
   "source": [
    "# Class 07\n",
    "* Functions:\n",
    "    * Built in Functions:\n",
    "        * Made In the Programming Code,\n",
    "        * Function Implementation,\n",
    "        * Function Body,\n",
    "        * Function Initialization,\n",
    "        * Function Calling\n",
    "    * User Defined Functions:\n",
    "        * Made By The user; Custom Function Names,\n",
    "        * Function Implementation,\n",
    "        * Function Body,\n",
    "        * Function Initialaization\n",
    "        * Function Calling\n",
    "    * Return Or Non_Return Functions\n",
    "        * Return Functions\n",
    "        * Non_Return Functions\n",
    "* Different Pre-Defined Functions:\n",
    "    * print()\n",
    "    * len()\n",
    "    * id()\n",
    "    * dir()\n",
    "    * chr()\n",
    "    * ord()\n",
    "    * And many more......\n",
    "\n",
    "* Functions to learn:\n",
    "    * Normal Functions:\n",
    "        * Normal Functions are functions which can return something or not return something. They are defined with \"def\" keyword\n",
    "        * They have a Name, Body, And initilaizer\n",
    "        * An example of Normal Functions:\n",
    "            ```\n",
    "            def [ Function_Name ](params: type) -> type:    <---- Return type Annotation\n",
    "                Function_Body\n",
    "            \n",
    "            [ Function_Name ]() ---> Function Calling\n",
    "            ```\n",
    "    * Generator Functions:\n",
    "        * Generator Functions are For Loops in functions basically, Only that you can check each iteration:\n",
    "        * An example of Generator Functions:\n",
    "            ```\n",
    "            from collections.abc import Iterator\n",
    "\n",
    "            def my_range(start: int, end: int, step: int = 1) -> Iterator[int]:\n",
    "                for i in range(start, end + 1, step):\n",
    "                    yield i\n",
    "                    \n",
    "            a: Iterator[int] = my_range(12, 48, 6)\n",
    "\n",
    "            for index in a:\n",
    "                print(index)\n",
    "\n",
    "            ```\n",
    "    * Decorator Functions:\n",
    "        * Decorator Functions Are basically Callback functions from typescript\n",
    "        * Some code on Decorator Functions:\n",
    "        \n",
    "        ```\n",
    "        from typing import Callable\n",
    "\n",
    "        def my_decorator(func: Callable[[], None]) -> Callable[[], None]:\n",
    "            def wrapper(num: int) -> int:\n",
    "                print(\"Something is happening before Function Line\")\n",
    "                print(num)\n",
    "                print(\"Something is happening after Function Line\")\n",
    "            return wrapper\n",
    "        \n",
    "        @my_decorator\n",
    "        def Say_Number(num: int):\n",
    "            print(num)\n",
    "        \n",
    "        Say_Number()\n",
    "        ```\n",
    "    * Recursive Functions:\n",
    "        * These functions are named so because they Run Themselves inside Themselves, till a condition is met, ofcourse\n",
    "        * An example of recursive functions (Factorial):\n",
    "            ```\n",
    "            def Factorial(nr) -> int:\n",
    "                if nr==0:\n",
    "                    return 1\n",
    "                else:\n",
    "                    return nr * Factorial(nr - 1)\n",
    "\n",
    "            Factorial(9) \n",
    "            ```\n",
    "        \n",
    "\n",
    "\n",
    "# User Defined Function Syntax\n",
    "\n",
    "* Here is a demo of a usual function:\n",
    "\n",
    "```\n",
    "def Function_Name(parameter: type, parameter: type) -> Return_Type:\n",
    "    Function_Body\n",
    "Function_Name()\n",
    "```\n",
    "\n"
   ]
  },
  {
   "cell_type": "code",
   "execution_count": 2,
   "metadata": {},
   "outputs": [
    {
     "name": "stdout",
     "output_type": "stream",
     "text": [
      "PIAIC Generative AI\n",
      "Pakistan ZindaBad\n",
      "Python Crash Course\n"
     ]
    }
   ],
   "source": [
    "def PIAIC() -> None:\n",
    "    print(\"PIAIC Generative AI\")\n",
    "    print(\"Pakistan ZindaBad\")\n",
    "    print(\"Python Crash Course\")\n",
    "    \n",
    "PIAIC(); "
   ]
  },
  {
   "cell_type": "code",
   "execution_count": 9,
   "metadata": {},
   "outputs": [
    {
     "name": "stdout",
     "output_type": "stream",
     "text": [
      "22\n"
     ]
    }
   ],
   "source": [
    "Lambda = lambda a, b, c : a + b + c\n",
    "print(Lambda(12, 4, 6))"
   ]
  },
  {
   "cell_type": "code",
   "execution_count": 12,
   "metadata": {},
   "outputs": [
    {
     "data": {
      "text/plain": [
       "[2, 4, 6, 8, 10]"
      ]
     },
     "execution_count": 12,
     "metadata": {},
     "output_type": "execute_result"
    }
   ],
   "source": [
    "# data: list[int] = [1,2,3,4,5,6,7,8,9,10]\n",
    "# data = list(map(lambda x : x ** 2, data))\n",
    "# data\n",
    "\n",
    "data: list[int] = [1,2,3,4,5,6,7,8,9,10]\n",
    "data = list(filter(lambda x : x % 2 == 0, data))\n",
    "data"
   ]
  },
  {
   "cell_type": "code",
   "execution_count": 13,
   "metadata": {},
   "outputs": [
    {
     "name": "stdout",
     "output_type": "stream",
     "text": [
      "60\n"
     ]
    }
   ],
   "source": [
    "from typing import Callable\n",
    "\n",
    "add: Callable[[int, int], int] = lambda a, b : a + b\n",
    "result = add(10, 50)\n",
    "print(result)"
   ]
  },
  {
   "cell_type": "code",
   "execution_count": 20,
   "metadata": {},
   "outputs": [
    {
     "name": "stdout",
     "output_type": "stream",
     "text": [
      "12\n",
      "18\n",
      "24\n",
      "30\n",
      "36\n",
      "42\n",
      "48\n"
     ]
    },
    {
     "data": {
      "text/plain": [
       "'{Hello}'"
      ]
     },
     "execution_count": 20,
     "metadata": {},
     "output_type": "execute_result"
    }
   ],
   "source": [
    "from collections.abc import Iterator\n",
    "\n",
    "def my_range(start: int, end: int, step: int = 1) -> Iterator[int]:\n",
    "    for i in range(start, end + 1, step):\n",
    "        yield i\n",
    "        \n",
    "a: Iterator[int] = my_range(12, 48, 6)\n",
    "\n",
    "for index in a:\n",
    "    print(index)\n"
   ]
  },
  {
   "cell_type": "code",
   "execution_count": 22,
   "metadata": {},
   "outputs": [
    {
     "name": "stdout",
     "output_type": "stream",
     "text": [
      "Something is happening before the functions is called\n",
      "Hello user\n",
      "Something is happening after function execution\n"
     ]
    }
   ],
   "source": [
    "from typing import Callable\n",
    "\n",
    "def decorator(func: Callable[[], None]) -> Callable[[], None]:\n",
    "    def wrapper(num1: int):\n",
    "        print(\"Something is happening before the functions is called\")\n",
    "        func(num1)\n",
    "        print(\"Something is happening after function execution\")\n",
    "    return wrapper\n",
    "\n",
    "@decorator\n",
    "\n",
    "def say_hello(int: int) -> None:\n",
    "    print(f\"Hello user {int}\")\n",
    "\n",
    "say_hello(12)"
   ]
  },
  {
   "cell_type": "code",
   "execution_count": 24,
   "metadata": {},
   "outputs": [
    {
     "data": {
      "text/plain": [
       "362880"
      ]
     },
     "execution_count": 24,
     "metadata": {},
     "output_type": "execute_result"
    }
   ],
   "source": [
    "def Factorial(nr) -> int:\n",
    "    if nr==0:\n",
    "        return 1\n",
    "    else:\n",
    "        return nr * Factorial(nr - 1)\n",
    "\n",
    "Factorial(9)  "
   ]
  },
  {
   "cell_type": "code",
   "execution_count": 32,
   "metadata": {},
   "outputs": [
    {
     "name": "stdout",
     "output_type": "stream",
     "text": [
      "Line before Function\n",
      "Hello user 12\n",
      "Line after function\n"
     ]
    }
   ],
   "source": [
    "from typing import Callable\n",
    "\n",
    "def my_decorator(func: Callable[[], None]) -> Callable[[], None]:\n",
    "    def wrapper(num: int):\n",
    "        print(\"Line before Function\")\n",
    "        func(num)\n",
    "        print(\"Line after function\")\n",
    "    return wrapper\n",
    "\n",
    "@my_decorator\n",
    "def Say_Hello(num: int) -> None:\n",
    "    print(f\"Hello user {num}\")\n",
    "\n",
    "Say_Hello(12)"
   ]
  }
 ],
 "metadata": {
  "kernelspec": {
   "display_name": "python11",
   "language": "python",
   "name": "python3"
  },
  "language_info": {
   "codemirror_mode": {
    "name": "ipython",
    "version": 3
   },
   "file_extension": ".py",
   "mimetype": "text/x-python",
   "name": "python",
   "nbconvert_exporter": "python",
   "pygments_lexer": "ipython3",
   "version": "3.12.0"
  }
 },
 "nbformat": 4,
 "nbformat_minor": 2
}
