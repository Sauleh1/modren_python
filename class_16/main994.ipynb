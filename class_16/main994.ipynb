{
 "cells": [
  {
   "cell_type": "markdown",
   "metadata": {},
   "source": [
    "# Class no. 16\n",
    "## Topics:\n",
    "* Numpy:\n",
    "    * Numpy is a very powerful framework for creating Artificial Intelligence models.\n",
    "    * Numpy is a Python library for scientific computing in Python.\n",
    "    * There are over 150 different functions in Numpy, which allow you to do mahematical calculations in:\n",
    "        * Arithmetic\n",
    "        * Algebric\n",
    "        * Trigonometric\n",
    "        * Fourier Transformations\n",
    "        * Random Number Generation\n",
    "    * There are over 100 different data structures in Numpy, which allow you to organize your data in:\n",
    "        * Vectors\n",
    "        * Matrices\n",
    "        * Tensors\n",
    "        * DataFrames\n",
    "    * Numpy can also be classified as \"Machine Learning\", which allows you to create an actual robots functionality."
   ]
  },
  {
   "cell_type": "code",
   "execution_count": 1,
   "metadata": {},
   "outputs": [
    {
     "name": "stdout",
     "output_type": "stream",
     "text": [
      "Collecting nptyping\n",
      "  Downloading nptyping-2.5.0-py3-none-any.whl (37 kB)\n",
      "Collecting beartype\n",
      "  Obtaining dependency information for beartype from https://files.pythonhosted.org/packages/46/8a/a90fe78c73958340ed6b6ab128a10598ad5f0ff57537ad17f6ccd1ad830b/beartype-0.16.4-py3-none-any.whl.metadata\n",
      "  Downloading beartype-0.16.4-py3-none-any.whl.metadata (29 kB)\n",
      "Collecting numpy<2.0.0,>=1.20.0 (from nptyping)\n",
      "  Obtaining dependency information for numpy<2.0.0,>=1.20.0 from https://files.pythonhosted.org/packages/32/95/908d0caa051beae4f7c77652dbbeb781e7b717f3040c5c5fcaed4d3ed08f/numpy-1.26.1-cp312-cp312-win_amd64.whl.metadata\n",
      "  Using cached numpy-1.26.1-cp312-cp312-win_amd64.whl.metadata (61 kB)\n",
      "Downloading beartype-0.16.4-py3-none-any.whl (819 kB)\n",
      "   ---------------------------------------- 0.0/819.1 kB ? eta -:--:--\n",
      "   ----- ---------------------------------- 112.6/819.1 kB 6.8 MB/s eta 0:00:01\n",
      "   ----------- ---------------------------- 235.5/819.1 kB 3.6 MB/s eta 0:00:01\n",
      "   ------------------ --------------------- 368.6/819.1 kB 3.3 MB/s eta 0:00:01\n",
      "   ----------------------- ---------------- 481.3/819.1 kB 3.0 MB/s eta 0:00:01\n",
      "   ------------------------------ --------- 614.4/819.1 kB 3.0 MB/s eta 0:00:01\n",
      "   ----------------------------------- ---- 716.8/819.1 kB 2.8 MB/s eta 0:00:01\n",
      "   ---------------------------------------  809.0/819.1 kB 2.7 MB/s eta 0:00:01\n",
      "   ---------------------------------------- 819.1/819.1 kB 2.6 MB/s eta 0:00:00\n",
      "Using cached numpy-1.26.1-cp312-cp312-win_amd64.whl (15.5 MB)\n",
      "Installing collected packages: numpy, beartype, nptyping\n",
      "  Attempting uninstall: numpy\n",
      "    Found existing installation: numpy 1.26.1\n",
      "    Uninstalling numpy-1.26.1:\n",
      "      Successfully uninstalled numpy-1.26.1\n",
      "Successfully installed beartype-0.16.4 nptyping-2.5.0 numpy-1.26.1\n"
     ]
    }
   ],
   "source": [
    "!pip install nptyping beartype --upgrade --force"
   ]
  },
  {
   "cell_type": "code",
   "execution_count": 4,
   "metadata": {},
   "outputs": [
    {
     "ename": "InvalidStructureError",
     "evalue": "'a: Int, b' is not a valid structure expression.",
     "output_type": "error",
     "traceback": [
      "\u001b[1;31m---------------------------------------------------------------------------\u001b[0m",
      "\u001b[1;31mInvalidStructureError\u001b[0m                     Traceback (most recent call last)",
      "\u001b[1;32mc:\\Users\\COMPUTER WORLD\\Documents\\SaulehPython\\modren_python\\class_16\\main994.ipynb Cell 3\u001b[0m line \u001b[0;36m5\n\u001b[0;32m      <a href='vscode-notebook-cell:/c%3A/Users/COMPUTER%20WORLD/Documents/SaulehPython/modren_python/class_16/main994.ipynb#W4sZmlsZQ%3D%3D?line=0'>1</a>\u001b[0m \u001b[39mfrom\u001b[39;00m \u001b[39mnptyping\u001b[39;00m \u001b[39mimport\u001b[39;00m DataFrame, Structure \u001b[39mas\u001b[39;00m S\n\u001b[0;32m      <a href='vscode-notebook-cell:/c%3A/Users/COMPUTER%20WORLD/Documents/SaulehPython/modren_python/class_16/main994.ipynb#W4sZmlsZQ%3D%3D?line=1'>2</a>\u001b[0m \u001b[39mfrom\u001b[39;00m \u001b[39mbeartype\u001b[39;00m \u001b[39mimport\u001b[39;00m beartype\n\u001b[0;32m      <a href='vscode-notebook-cell:/c%3A/Users/COMPUTER%20WORLD/Documents/SaulehPython/modren_python/class_16/main994.ipynb#W4sZmlsZQ%3D%3D?line=3'>4</a>\u001b[0m \u001b[39m@beartype\u001b[39m\n\u001b[1;32m----> <a href='vscode-notebook-cell:/c%3A/Users/COMPUTER%20WORLD/Documents/SaulehPython/modren_python/class_16/main994.ipynb#W4sZmlsZQ%3D%3D?line=4'>5</a>\u001b[0m \u001b[39mdef\u001b[39;00m \u001b[39mfunc\u001b[39m(df: DataFrame[S[\u001b[39m\"\u001b[39m\u001b[39ma: Int, b: Str\u001b[39m\u001b[39m\"\u001b[39m]]) \u001b[39m-\u001b[39m\u001b[39m>\u001b[39m DataFrame[S[\u001b[39m\"\u001b[39;49m\u001b[39ma: Int, b\u001b[39;49m\u001b[39m\"\u001b[39;49m]]:\n\u001b[0;32m      <a href='vscode-notebook-cell:/c%3A/Users/COMPUTER%20WORLD/Documents/SaulehPython/modren_python/class_16/main994.ipynb#W4sZmlsZQ%3D%3D?line=5'>6</a>\u001b[0m     \u001b[39mreturn\u001b[39;00m df\n\u001b[0;32m      <a href='vscode-notebook-cell:/c%3A/Users/COMPUTER%20WORLD/Documents/SaulehPython/modren_python/class_16/main994.ipynb#W4sZmlsZQ%3D%3D?line=7'>8</a>\u001b[0m func(\u001b[39m\"\u001b[39m\u001b[39mHello, world!\u001b[39m\u001b[39m\"\u001b[39m)\n",
      "File \u001b[1;32mc:\\Users\\COMPUTER WORLD\\anaconda\\envs\\python11\\Lib\\site-packages\\nptyping\\base_meta_classes.py:145\u001b[0m, in \u001b[0;36mSubscriptableMeta.__getitem__\u001b[1;34m(cls, item)\u001b[0m\n\u001b[0;32m    142\u001b[0m \u001b[39mif\u001b[39;00m \u001b[39mgetattr\u001b[39m(\u001b[39mcls\u001b[39m, \u001b[39m\"\u001b[39m\u001b[39m_parameterized\u001b[39m\u001b[39m\"\u001b[39m, \u001b[39mFalse\u001b[39;00m):\n\u001b[0;32m    143\u001b[0m     \u001b[39mraise\u001b[39;00m NPTypingError(\u001b[39mf\u001b[39m\u001b[39m\"\u001b[39m\u001b[39mType nptyping.\u001b[39m\u001b[39m{\u001b[39;00m\u001b[39mcls\u001b[39m\u001b[39m}\u001b[39;00m\u001b[39m is already parameterized.\u001b[39m\u001b[39m\"\u001b[39m)\n\u001b[1;32m--> 145\u001b[0m args \u001b[39m=\u001b[39m \u001b[39mcls\u001b[39;49m\u001b[39m.\u001b[39;49m_get_item(item)\n\u001b[0;32m    146\u001b[0m additional_values \u001b[39m=\u001b[39m \u001b[39mcls\u001b[39m\u001b[39m.\u001b[39m_get_additional_values(item)\n\u001b[0;32m    147\u001b[0m \u001b[39massert\u001b[39;00m \u001b[39mhasattr\u001b[39m(\u001b[39mcls\u001b[39m, \u001b[39m\"\u001b[39m\u001b[39m__args__\u001b[39m\u001b[39m\"\u001b[39m), \u001b[39m\"\u001b[39m\u001b[39mA SubscriptableMeta must have __args__.\u001b[39m\u001b[39m\"\u001b[39m\n",
      "File \u001b[1;32mc:\\Users\\COMPUTER WORLD\\anaconda\\envs\\python11\\Lib\\site-packages\\nptyping\\base_meta_classes.py:222\u001b[0m, in \u001b[0;36mContainerMeta._get_item\u001b[1;34m(cls, item)\u001b[0m\n\u001b[0;32m    217\u001b[0m \u001b[39mif\u001b[39;00m item \u001b[39min\u001b[39;00m \u001b[39mcls\u001b[39m\u001b[39m.\u001b[39m_known_expressions:\n\u001b[0;32m    218\u001b[0m     \u001b[39m# No need to do costly validations and normalizations if it has been done\u001b[39;00m\n\u001b[0;32m    219\u001b[0m     \u001b[39m# before.\u001b[39;00m\n\u001b[0;32m    220\u001b[0m     \u001b[39mreturn\u001b[39;00m (item,)\n\u001b[1;32m--> 222\u001b[0m \u001b[39mcls\u001b[39;49m\u001b[39m.\u001b[39;49m_validate_expression(item)\n\u001b[0;32m    223\u001b[0m norm_shape_expression \u001b[39m=\u001b[39m \u001b[39mcls\u001b[39m\u001b[39m.\u001b[39m_normalize_expression(item)\n\u001b[0;32m    224\u001b[0m \u001b[39mcls\u001b[39m\u001b[39m.\u001b[39m_known_expressions\u001b[39m.\u001b[39madd(norm_shape_expression)\n",
      "File \u001b[1;32mc:\\Users\\COMPUTER WORLD\\anaconda\\envs\\python11\\Lib\\site-packages\\nptyping\\structure.py:48\u001b[0m, in \u001b[0;36mStructureMeta._validate_expression\u001b[1;34m(cls, item)\u001b[0m\n\u001b[0;32m     47\u001b[0m \u001b[39mdef\u001b[39;00m \u001b[39m_validate_expression\u001b[39m(\u001b[39mcls\u001b[39m, item: \u001b[39mstr\u001b[39m) \u001b[39m-\u001b[39m\u001b[39m>\u001b[39m \u001b[39mNone\u001b[39;00m:\n\u001b[1;32m---> 48\u001b[0m     validate_structure_expression(item)\n",
      "File \u001b[1;32mc:\\Users\\COMPUTER WORLD\\anaconda\\envs\\python11\\Lib\\site-packages\\nptyping\\structure_expression.py:65\u001b[0m, in \u001b[0;36mvalidate_structure_expression\u001b[1;34m(structure_expression)\u001b[0m\n\u001b[0;32m     63\u001b[0m \u001b[39mif\u001b[39;00m structure_expression \u001b[39mis\u001b[39;00m \u001b[39mnot\u001b[39;00m Any:\n\u001b[0;32m     64\u001b[0m     \u001b[39mif\u001b[39;00m \u001b[39mnot\u001b[39;00m re\u001b[39m.\u001b[39mmatch(_REGEX_STRUCTURE_EXPRESSION, structure_expression):\n\u001b[1;32m---> 65\u001b[0m         \u001b[39mraise\u001b[39;00m InvalidStructureError(\n\u001b[0;32m     66\u001b[0m             \u001b[39mf\u001b[39m\u001b[39m\"\u001b[39m\u001b[39m'\u001b[39m\u001b[39m{\u001b[39;00mstructure_expression\u001b[39m}\u001b[39;00m\u001b[39m'\u001b[39m\u001b[39m is not a valid structure expression.\u001b[39m\u001b[39m\"\u001b[39m\n\u001b[0;32m     67\u001b[0m         )\n\u001b[0;32m     68\u001b[0m     _validate_structure_expression_contains_no_multiple_field_names(\n\u001b[0;32m     69\u001b[0m         structure_expression\n\u001b[0;32m     70\u001b[0m     )\n\u001b[0;32m     71\u001b[0m     _validate_sub_array_expressions(structure_expression)\n",
      "\u001b[1;31mInvalidStructureError\u001b[0m: 'a: Int, b' is not a valid structure expression."
     ]
    }
   ],
   "source": [
    "from nptyping import DataFrame, Structure as S\n",
    "from beartype import beartype\n",
    "\n",
    "@beartype\n",
    "def func(df: DataFrame[S[\"a: Int, b: Str\"]]) -> DataFrame[S[\"a: Int, b\"]]:\n",
    "    return df\n",
    "\n",
    "func(\"Hello, world!\")\n"
   ]
  }
 ],
 "metadata": {
  "kernelspec": {
   "display_name": "python11",
   "language": "python",
   "name": "python3"
  },
  "language_info": {
   "codemirror_mode": {
    "name": "ipython",
    "version": 3
   },
   "file_extension": ".py",
   "mimetype": "text/x-python",
   "name": "python",
   "nbconvert_exporter": "python",
   "pygments_lexer": "ipython3",
   "version": "3.12.0"
  }
 },
 "nbformat": 4,
 "nbformat_minor": 2
}
