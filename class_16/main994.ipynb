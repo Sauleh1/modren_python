{
 "cells": [
  {
   "cell_type": "markdown",
   "metadata": {},
   "source": [
    "# Class no. 16\n",
    "## Topics:\n",
    "* Numpy:\n",
    "    * Numpy is a very powerful framework for creating Artificial Intelligence models."
   ]
  }
 ],
 "metadata": {
  "language_info": {
   "name": "python"
  }
 },
 "nbformat": 4,
 "nbformat_minor": 2
}
