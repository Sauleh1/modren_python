{
 "cells": [
  {
   "cell_type": "markdown",
   "metadata": {},
   "source": [
    "# Class_09\n",
    "## Topics\n",
    "\n",
    "* For Loops\n",
    "* While Loops\n",
    "* Input Function\n",
    "\n",
    "### Working Loops on Iterative Data Types\n",
    "\n",
    "* List\n",
    "* Dictionary\n",
    "* Tuple\n",
    "* String\n"
   ]
  },
  {
   "cell_type": "code",
   "execution_count": 1,
   "metadata": {},
   "outputs": [
    {
     "name": "stdout",
     "output_type": "stream",
     "text": [
      "line 1\n",
      "line 2\n",
      "['c:\\\\Users\\\\COMPUTER WORLD\\\\anaconda\\\\envs\\\\python11\\\\Lib\\\\site-packages\\\\ipykernel_launcher.py', '--ip=127.0.0.1', '--stdin=9008', '--control=9006', '--hb=9005', '--Session.signature_scheme=\"hmac-sha256\"', '--Session.key=b\"d33c2ddf-4364-466b-ba15-b248f1b5f58f\"', '--shell=9007', '--transport=\"tcp\"', '--iopub=9009', '--f=\"c:\\\\Users\\\\COMPUTER WORLD\\\\AppData\\\\Roaming\\\\jupyter\\\\runtime\\\\kernel-v2-12544hcfn4dexezUw.json\"']\n",
      "<class 'list'>\n"
     ]
    }
   ],
   "source": [
    "import sys\n",
    "\n",
    "print(\"line 1\")\n",
    "print(\"line 2\")\n",
    "\n",
    "print(sys.argv)\n",
    "print(type(sys.argv))"
   ]
  },
  {
   "cell_type": "code",
   "execution_count": null,
   "metadata": {},
   "outputs": [],
   "source": [
    "bag = []\n",
    "\n",
    "def Addinbag():\n",
    "    while True:    \n",
    "        a = input(\"What to add in the bag? Say 'Quit' to stop adding items\")\n",
    "        if a:\n",
    "            bag.append(a)\n",
    "        elif a == \"Quit\":\n",
    "            print(\"Here is your bag:\")\n",
    "            print(bag)\n",
    "            break\n",
    "        else:\n",
    "            break\n",
    "        \n",
    "Addinbag()"
   ]
  }
 ],
 "metadata": {
  "kernelspec": {
   "display_name": "python11",
   "language": "python",
   "name": "python3"
  },
  "language_info": {
   "codemirror_mode": {
    "name": "ipython",
    "version": 3
   },
   "file_extension": ".py",
   "mimetype": "text/x-python",
   "name": "python",
   "nbconvert_exporter": "python",
   "pygments_lexer": "ipython3",
   "version": "3.12.0"
  }
 },
 "nbformat": 4,
 "nbformat_minor": 2
}
