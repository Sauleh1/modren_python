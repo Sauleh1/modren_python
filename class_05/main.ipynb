{
 "cells": [
  {
   "cell_type": "markdown",
   "metadata": {},
   "source": [
    "# List And Tuple Methods:\n",
    "* append()\n",
    "* clear()\n",
    "* copy()\n",
    "* count()\n",
    "* extend()\n",
    "* index()\n",
    "* insert()\n",
    "* pop()\n",
    "* remove()\n",
    "* reverse()\n",
    "* sort()\n",
    "* len()\n",
    "* max()\n",
    "* min()\n",
    "* tuple()\n",
    "* count()\n",
    "* sum()\n",
    "* sorted()\n"
   ]
  },
  {
   "cell_type": "markdown",
   "metadata": {},
   "source": [
    "# Lists:\n",
    "* Iteration\n",
    "* Apply operation on element"
   ]
  },
  {
   "cell_type": "code",
   "execution_count": 1,
   "metadata": {},
   "outputs": [
    {
     "name": "stdout",
     "output_type": "stream",
     "text": [
      "['Sir Zia', 'Sir Noman', 'Sir Inam']\n"
     ]
    }
   ],
   "source": [
    "names: list[str] = [\"Sir Zia\",\"Sir Noman\",\"Sir Inam\"]; \n",
    "print(names)\n"
   ]
  },
  {
   "cell_type": "code",
   "execution_count": 7,
   "metadata": {},
   "outputs": [
    {
     "name": "stdout",
     "output_type": "stream",
     "text": [
      "Sir Zia\n",
      "Sir Noman\n",
      "Sir Inam\n"
     ]
    }
   ],
   "source": [
    "names: list[str] = [\"Sir Zia\",\"Sir Noman\",\"Sir Inam\"]; \n",
    "# print(names)\n",
    "\n",
    "for name in names:\n",
    "    print(name)\n"
   ]
  },
  {
   "cell_type": "code",
   "execution_count": 1,
   "metadata": {},
   "outputs": [
    {
     "name": "stdout",
     "output_type": "stream",
     "text": [
      "Valid User\n",
      "{'status': True}\n"
     ]
    }
   ],
   "source": [
    "data_base: list[tuple[str, int]] = [\n",
    "    (\"Qasim\", 123),\n",
    "    (\"Wasay\", 100)\n",
    "]\n",
    "\n",
    "inputuser: str = input(\"What is your name: \")\n",
    "inputuserid: int = int(input(\"What is your ID: \"))\n",
    "\n",
    "for row in data_base:\n",
    "    user, password = row\n",
    "    if inputuser == user and inputuserid == password:\n",
    "        print(\"Valid User\")\n",
    "        print({ \"status\": True })\n",
    "        break\n",
    "else:\n",
    "    print(\"No user Found!\")\n",
    "    print({ \"status\": False })\n"
   ]
  }
 ],
 "metadata": {
  "kernelspec": {
   "display_name": "python11",
   "language": "python",
   "name": "python3"
  },
  "language_info": {
   "codemirror_mode": {
    "name": "ipython",
    "version": 3
   },
   "file_extension": ".py",
   "mimetype": "text/x-python",
   "name": "python",
   "nbconvert_exporter": "python",
   "pygments_lexer": "ipython3",
   "version": "3.12.0"
  },
  "orig_nbformat": 4
 },
 "nbformat": 4,
 "nbformat_minor": 2
}
