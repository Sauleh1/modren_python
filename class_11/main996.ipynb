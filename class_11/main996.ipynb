{
 "cells": [
  {
   "cell_type": "markdown",
   "metadata": {},
   "source": [
    "# Class_11\n",
    "* Mutable and Immutable:\n",
    "    * Lists are mutable, aka they can be changed after creation\n",
    "    * Lists are Shufflable\n",
    "    ```\n",
    "    sample_list = [\"A\",\"B\",\"C\",\"D\"]\n",
    "    sample_list.insert(1, \"Pakistan\") <--- List was Changed\n",
    "    print(sample_list)\n",
    "    ```\n",
    "* Every Digit or String has a Value, or an address.\n",
    "```\n",
    "print(f\"id of 'a' is {id(\"a\")}\")\n",
    "output --> 140716835654880\n",
    "```\n",
    "\n",
    "# Run-Time Errors\n",
    "* We can fix run-time errors by using \"try <--> except\":\n",
    "\n",
    "```\n",
    "try:\n",
    "    logic\n",
    "except:\n",
    "    run if error occurs\n",
    "else: \n",
    "    run if no error occurs\n",
    "finally:\n",
    "    always runs\n",
    "```"
   ]
  },
  {
   "cell_type": "code",
   "execution_count": 9,
   "metadata": {},
   "outputs": [
    {
     "name": "stdout",
     "output_type": "stream",
     "text": [
      "Value of num1 is [12, 24, 36]\n",
      "[1, 2, 3, 4, 5]\n",
      "140716835654880\n"
     ]
    }
   ],
   "source": [
    "a : list = [ 1, 2, 3, 4, 5 ]\n",
    "\n",
    "def Hello(int: list[int]):\n",
    "    int = [12, 24]\n",
    "    int.append(36)\n",
    "    print(f\"Value of num1 is {int}\")\n",
    "\n",
    "Hello(a)\n",
    "\n",
    "print(a)\n",
    "print(id(\"a\"))"
   ]
  },
  {
   "cell_type": "code",
   "execution_count": 10,
   "metadata": {},
   "outputs": [
    {
     "ename": "IndexError",
     "evalue": "list index out of range",
     "output_type": "error",
     "traceback": [
      "\u001b[1;31m---------------------------------------------------------------------------\u001b[0m",
      "\u001b[1;31mIndexError\u001b[0m                                Traceback (most recent call last)",
      "\u001b[1;32mc:\\Users\\COMPUTER WORLD\\Documents\\SaulehPython\\modren_python\\class_11\\main996.ipynb Cell 3\u001b[0m line \u001b[0;36m3\n\u001b[0;32m      <a href='vscode-notebook-cell:/c%3A/Users/COMPUTER%20WORLD/Documents/SaulehPython/modren_python/class_11/main996.ipynb#W2sZmlsZQ%3D%3D?line=0'>1</a>\u001b[0m names: \u001b[39mlist\u001b[39m[\u001b[39mstr\u001b[39m] \u001b[39m=\u001b[39m [ \u001b[39m\"\u001b[39m\u001b[39mSir Zia\u001b[39m\u001b[39m\"\u001b[39m,\u001b[39m\"\u001b[39m\u001b[39mSir Inam\u001b[39m\u001b[39m\"\u001b[39m,\u001b[39m\"\u001b[39m\u001b[39mSir Bilal\u001b[39m\u001b[39m\"\u001b[39m,\u001b[39m\"\u001b[39m\u001b[39mSir Qasim\u001b[39m\u001b[39m\"\u001b[39m ]\n\u001b[0;32m      <a href='vscode-notebook-cell:/c%3A/Users/COMPUTER%20WORLD/Documents/SaulehPython/modren_python/class_11/main996.ipynb#W2sZmlsZQ%3D%3D?line=1'>2</a>\u001b[0m index: \u001b[39mint\u001b[39m \u001b[39m=\u001b[39m \u001b[39mint\u001b[39m(\u001b[39minput\u001b[39m(\u001b[39m\"\u001b[39m\u001b[39mWhich index: \u001b[39m\u001b[39m\"\u001b[39m))\n\u001b[1;32m----> <a href='vscode-notebook-cell:/c%3A/Users/COMPUTER%20WORLD/Documents/SaulehPython/modren_python/class_11/main996.ipynb#W2sZmlsZQ%3D%3D?line=2'>3</a>\u001b[0m \u001b[39mprint\u001b[39m(names[index])\n",
      "\u001b[1;31mIndexError\u001b[0m: list index out of range"
     ]
    }
   ],
   "source": [
    "names: list[str] = [ \"Sir Zia\",\"Sir Inam\",\"Sir Bilal\",\"Sir Qasim\" ]\n",
    "index: int = int(input(\"Which index: \"))\n",
    "print(names[index])"
   ]
  },
  {
   "cell_type": "code",
   "execution_count": 11,
   "metadata": {},
   "outputs": [
    {
     "ename": "KeyError",
     "evalue": "'father name'",
     "output_type": "error",
     "traceback": [
      "\u001b[1;31m---------------------------------------------------------------------------\u001b[0m",
      "\u001b[1;31mKeyError\u001b[0m                                  Traceback (most recent call last)",
      "\u001b[1;32mc:\\Users\\COMPUTER WORLD\\Documents\\SaulehPython\\modren_python\\class_11\\main996.ipynb Cell 4\u001b[0m line \u001b[0;36m6\n\u001b[0;32m      <a href='vscode-notebook-cell:/c%3A/Users/COMPUTER%20WORLD/Documents/SaulehPython/modren_python/class_11/main996.ipynb#W3sZmlsZQ%3D%3D?line=0'>1</a>\u001b[0m sample_dict: \u001b[39mdict\u001b[39m[\u001b[39mstr\u001b[39m, \u001b[39mstr\u001b[39m] \u001b[39m=\u001b[39m {\n\u001b[0;32m      <a href='vscode-notebook-cell:/c%3A/Users/COMPUTER%20WORLD/Documents/SaulehPython/modren_python/class_11/main996.ipynb#W3sZmlsZQ%3D%3D?line=1'>2</a>\u001b[0m     \u001b[39m\"\u001b[39m\u001b[39mname\u001b[39m\u001b[39m\"\u001b[39m: \u001b[39m\"\u001b[39m\u001b[39mMohammad Sauleh\u001b[39m\u001b[39m\"\u001b[39m,\n\u001b[0;32m      <a href='vscode-notebook-cell:/c%3A/Users/COMPUTER%20WORLD/Documents/SaulehPython/modren_python/class_11/main996.ipynb#W3sZmlsZQ%3D%3D?line=2'>3</a>\u001b[0m     \u001b[39m\"\u001b[39m\u001b[39meducation\u001b[39m\u001b[39m\"\u001b[39m: \u001b[39m\"\u001b[39m\u001b[39mMSDS\u001b[39m\u001b[39m\"\u001b[39m\n\u001b[0;32m      <a href='vscode-notebook-cell:/c%3A/Users/COMPUTER%20WORLD/Documents/SaulehPython/modren_python/class_11/main996.ipynb#W3sZmlsZQ%3D%3D?line=3'>4</a>\u001b[0m }\n\u001b[1;32m----> <a href='vscode-notebook-cell:/c%3A/Users/COMPUTER%20WORLD/Documents/SaulehPython/modren_python/class_11/main996.ipynb#W3sZmlsZQ%3D%3D?line=5'>6</a>\u001b[0m \u001b[39mprint\u001b[39m(sample_dict[\u001b[39m\"\u001b[39;49m\u001b[39mfather name\u001b[39;49m\u001b[39m\"\u001b[39;49m])\n",
      "\u001b[1;31mKeyError\u001b[0m: 'father name'"
     ]
    }
   ],
   "source": [
    "sample_dict: dict[str, str] = {\n",
    "    \"name\": \"Mohammad Sauleh\",\n",
    "    \"education\": \"MSDS\"\n",
    "}\n",
    "\n",
    "print(sample_dict[\"father name\"])"
   ]
  },
  {
   "cell_type": "markdown",
   "metadata": {},
   "source": []
  }
 ],
 "metadata": {
  "kernelspec": {
   "display_name": "python11",
   "language": "python",
   "name": "python3"
  },
  "language_info": {
   "codemirror_mode": {
    "name": "ipython",
    "version": 3
   },
   "file_extension": ".py",
   "mimetype": "text/x-python",
   "name": "python",
   "nbconvert_exporter": "python",
   "pygments_lexer": "ipython3",
   "version": "3.12.0"
  }
 },
 "nbformat": 4,
 "nbformat_minor": 2
}
