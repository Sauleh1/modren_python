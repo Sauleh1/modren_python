{
 "cells": [
  {
   "cell_type": "markdown",
   "metadata": {},
   "source": [
    "# Class_12\n",
    "* File Handling:\n",
    "    * File Handling Allows to modify and read other files details.\n",
    "    \n",
    "* Error Handling:\n",
    "    * A lot of times in Programming, Errors may occur. There may be errors on wrong types or zero division errors or even passing wrong number of arguments.\n",
    "    * We can fix Errors by fixing them, but we can use a try <--> except loop to find if any errors occur. The syntax is:\n",
    "    ```\n",
    "    try:\n",
    "        logic\n",
    "    except:\n",
    "        if error Occurs\n",
    "    else:\n",
    "        if no error occurs\n",
    "    finally:\n",
    "        always run, whether error occurs or doesnt occur.\n",
    "    ```\n",
    "    * There are many types of Errors, few being:\n",
    "        * ZeroDivisionError\n",
    "        * IndexError\n",
    "        * ValueError\n",
    "        * NameError\n",
    "        * ArithmeticError\n",
    "        * AttributeError\n",
    "        * NameError\n",
    "        * TypeError\n",
    "        * KeyError\n",
    "        * SyntaxError"
   ]
  },
  {
   "cell_type": "code",
   "execution_count": 9,
   "metadata": {},
   "outputs": [
    {
     "name": "stdout",
     "output_type": "stream",
     "text": [
      "Line1\n",
      "* Hello world\n"
     ]
    }
   ],
   "source": [
    "with open(\"./abc.txt\", \"r+\") as file:\n",
    "    print(file.read())\n",
    "    file.write(\"hello world\")"
   ]
  },
  {
   "cell_type": "code",
   "execution_count": null,
   "metadata": {},
   "outputs": [],
   "source": []
  }
 ],
 "metadata": {
  "kernelspec": {
   "display_name": "python11",
   "language": "python",
   "name": "python3"
  },
  "language_info": {
   "codemirror_mode": {
    "name": "ipython",
    "version": 3
   },
   "file_extension": ".py",
   "mimetype": "text/x-python",
   "name": "python",
   "nbconvert_exporter": "python",
   "pygments_lexer": "ipython3",
   "version": "3.12.0"
  }
 },
 "nbformat": 4,
 "nbformat_minor": 2
}
