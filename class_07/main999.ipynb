{
 "cells": [
  {
   "cell_type": "markdown",
   "metadata": {},
   "source": [
    "# List\n",
    "* Dictionarys can be changed:\n",
    "```\n",
    "import Dict from typing\n",
    "\n",
    "sample_dic: Dict = {\n",
    "    \"fname\": \"Mohammad\",\n",
    "    \"lname\": \"Sauleh\",\n",
    "    \"age\": 12\n",
    "}\n",
    "```"
   ]
  },
  {
   "cell_type": "code",
   "execution_count": 14,
   "metadata": {},
   "outputs": [
    {
     "name": "stdout",
     "output_type": "stream",
     "text": [
      "Mohammad\n",
      "Sauleh\n",
      "12\n",
      "{'A': 'Aa', 'B': 'Bb', 'C': 'Cc'}\n"
     ]
    }
   ],
   "source": [
    "from typing import Dict, Union, Optional\n",
    "import pprint\n",
    "\n",
    "Key = Union[int, str]\n",
    "Value = Union[int, str, list, dict, tuple, set]\n",
    "\n",
    "sample_dic: Dict[Key, Value] = {\n",
    "    \"firstname\": \"Mohammad\",\n",
    "    \"lastname\": \"Sauleh\",\n",
    "    \"age\": 12,\n",
    "    \"abc\": { \"A\": \"Aa\", \"B\": \"Bb\", \"C\": \"Cc\" }\n",
    "}\n",
    "\n",
    "# print(sample_dic.get(\"lastname\", \"NA\"))\n",
    "# print(sample_dic.keys())\n",
    "# print(sample_dic.values())\n",
    "# print(sample_dic.items())\n",
    "\n",
    "for k in sample_dic.values():\n",
    "    print(k)\n"
   ]
  },
  {
   "cell_type": "code",
   "execution_count": 13,
   "metadata": {},
   "outputs": [
    {
     "name": "stdout",
     "output_type": "stream",
     "text": [
      "{1, 2, 3, 4, 5}\n"
     ]
    },
    {
     "data": {
      "text/plain": [
       "['add',\n",
       " 'clear',\n",
       " 'copy',\n",
       " 'difference',\n",
       " 'difference_update',\n",
       " 'discard',\n",
       " 'intersection',\n",
       " 'intersection_update',\n",
       " 'isdisjoint',\n",
       " 'issubset',\n",
       " 'issuperset',\n",
       " 'pop',\n",
       " 'remove',\n",
       " 'symmetric_difference',\n",
       " 'symmetric_difference_update',\n",
       " 'union',\n",
       " 'update']"
      ]
     },
     "execution_count": 13,
     "metadata": {},
     "output_type": "execute_result"
    }
   ],
   "source": [
    "data: set = { 1, 2, 3, 4, 5 }\n",
    "# Cannot Have duplicate items\n",
    "data: set = { 1, 2, 2, 3, 4, 4, 5 }\n",
    "\n",
    "print(data)\n",
    "\n",
    "[i for i in dir(data) if \"__\" not in i]\n"
   ]
  },
  {
   "cell_type": "code",
   "execution_count": 15,
   "metadata": {},
   "outputs": [
    {
     "name": "stdout",
     "output_type": "stream",
     "text": [
      "9 7\n"
     ]
    }
   ],
   "source": [
    "a: int = 7\n",
    "b: int = 9\n",
    "\n",
    "a, b = b, a\n",
    "\n",
    "print(a, b)\n"
   ]
  },
  {
   "cell_type": "code",
   "execution_count": null,
   "metadata": {},
   "outputs": [],
   "source": []
  }
 ],
 "metadata": {
  "kernelspec": {
   "display_name": "python11",
   "language": "python",
   "name": "python3"
  },
  "language_info": {
   "codemirror_mode": {
    "name": "ipython",
    "version": 3
   },
   "file_extension": ".py",
   "mimetype": "text/x-python",
   "name": "python",
   "nbconvert_exporter": "python",
   "pygments_lexer": "ipython3",
   "version": "3.12.0"
  },
  "orig_nbformat": 4
 },
 "nbformat": 4,
 "nbformat_minor": 2
}
